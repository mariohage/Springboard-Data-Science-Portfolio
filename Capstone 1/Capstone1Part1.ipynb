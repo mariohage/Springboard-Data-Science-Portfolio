{
 "cells": [
  {
   "cell_type": "code",
   "execution_count": 12,
   "metadata": {},
   "outputs": [],
   "source": [
    "#######DB instance identifier - database-1\n",
    "import pymysql\n",
    "from sqlalchemy import create_engine\n",
    "import pandas as pd\n",
    "import re\n",
    "username = ''\n",
    "password = ''\n",
    "\n",
    "hostname = ''\n",
    "port = 3306\n",
    "\n",
    "\n",
    "\n",
    "db = pymysql.connect(host=hostname, user=username, password=password)\n",
    "\n",
    "cursor = db.cursor()\n",
    "\n",
    "\n",
    "\n",
    "db_data = 'mysql+pymysql://' + '' + ':' + '' + '@' + '' + ':3306/' \\\n",
    "       + 'wsb' + '?charset=utf8mb4'\n",
    "engine = create_engine(db_data)\n",
    "\n",
    "\n",
    "\n",
    "\n",
    "\n"
   ]
  },
  {
   "cell_type": "code",
   "execution_count": 13,
   "metadata": {},
   "outputs": [
    {
     "data": {
      "text/plain": [
       "0"
      ]
     },
     "execution_count": 13,
     "metadata": {},
     "output_type": "execute_result"
    }
   ],
   "source": [
    "sql50 = '''use wsb'''\n",
    "cursor.execute(sql50)"
   ]
  },
  {
   "cell_type": "code",
   "execution_count": 14,
   "metadata": {},
   "outputs": [
    {
     "name": "stdout",
     "output_type": "stream",
     "text": [
      "     comment_id comment_parent_id  \\\n",
      "0       gjxsq04         t3_l0wlcc   \n",
      "1       gjxsq2f        t1_gjxdakd   \n",
      "2       gjxsq43        t1_gjxgy15   \n",
      "3       gjxsq6w        t1_gjxsmlf   \n",
      "4       gjxsqa0         t3_l17q3q   \n",
      "...         ...               ...   \n",
      "1172    gjxuobf         t3_l170g4   \n",
      "1173    gjxuod3        t1_gjxu6df   \n",
      "1174    gjxuoew        t1_gjxuk1s   \n",
      "1175    gjxuoib        t1_gjxuern   \n",
      "1176    gjxuokm        t1_gjxumne   \n",
      "\n",
      "                                           comment_body comment_link_id  \\\n",
      "0     This man first posted about BB 320 days ago......       t3_l0wlcc   \n",
      "1     No it’s not. It’s too big of a position, they ...       t3_l141iv   \n",
      "2     My brother started calling me the \"hater trade...       t3_l0y80p   \n",
      "3                                          Naaa sell it       t3_l170g4   \n",
      "4                                                     😂       t3_l17q3q   \n",
      "...                                                 ...             ...   \n",
      "1172  Hey Alexa play Feeling Whitney by Post Malone\\...       t3_l170g4   \n",
      "1173                                                25k       t3_l170g4   \n",
      "1174                         Needs to plow through $860       t3_l170g4   \n",
      "1175                 > up 1%\\n\\n> losing all your money       t3_l170g4   \n",
      "1176                                              G. M.       t3_l170g4   \n",
      "\n",
      "      comment_score        comment_date  \n",
      "0                 1 2021-01-20 07:37:54  \n",
      "1                 1 2021-01-20 07:37:56  \n",
      "2                 1 2021-01-20 07:37:57  \n",
      "3                 1 2021-01-20 07:37:58  \n",
      "4                 1 2021-01-20 07:38:00  \n",
      "...             ...                 ...  \n",
      "1172              1 2021-01-20 08:01:49  \n",
      "1173              1 2021-01-20 08:01:49  \n",
      "1174              1 2021-01-20 08:01:50  \n",
      "1175              1 2021-01-20 08:01:52  \n",
      "1176              1 2021-01-20 08:01:53  \n",
      "\n",
      "[1177 rows x 6 columns]\n"
     ]
    }
   ],
   "source": [
    "df = pd.read_sql('SELECT * FROM wallstreetbets', con=engine)\n",
    "print(df)\n"
   ]
  },
  {
   "cell_type": "code",
   "execution_count": 15,
   "metadata": {
    "scrolled": true
   },
   "outputs": [
    {
     "name": "stdout",
     "output_type": "stream",
     "text": [
      "     comment_id comment_parent_id  \\\n",
      "15      gjxsqwz        t1_gjxs329   \n",
      "36      gjxss4y         t3_l170g4   \n",
      "47      gjxssw3         t3_l183w8   \n",
      "54      gjxstiv        t1_gjxrjc0   \n",
      "77      gjxsun7         t3_l170g4   \n",
      "...         ...               ...   \n",
      "1145    gjxumoo        t1_gjxucnl   \n",
      "1152    gjxumyt        t1_gjx4g5o   \n",
      "1156    gjxuncd         t3_l170g4   \n",
      "1158    gjxunee        t1_gjxibag   \n",
      "1159    gjxunf2        t1_gjxue9y   \n",
      "\n",
      "                                           comment_body comment_link_id  \\\n",
      "15                            Get the GME dip for sure.       t3_l170g4   \n",
      "36           Will GME recover from the dip before 1/22?       t3_l170g4   \n",
      "47    Discounted gme shares? did they think this wou...       t3_l183w8   \n",
      "54    For the new folks: *you will lose money **if y...       t3_l183w8   \n",
      "77    It’s easy GME will moon before 11:30, just buy...       t3_l170g4   \n",
      "...                                                 ...             ...   \n",
      "1145  its inevitable if GME starts announcing their ...       t3_l170g4   \n",
      "1152  1 Diamond hand holding 1 share, worth way more...       t3_l0y80p   \n",
      "1156                  Where is our daily GME thread????       t3_l170g4   \n",
      "1158  They also show a chart that says once too many...       t3_l15giq   \n",
      "1159  GME is safe if you want to at least 4x your ac...       t3_l170g4   \n",
      "\n",
      "      comment_score        comment_date  \n",
      "15                1 2021-01-20 07:38:14  \n",
      "36                1 2021-01-20 07:38:40  \n",
      "47                1 2021-01-20 07:38:55  \n",
      "54                1 2021-01-20 07:39:09  \n",
      "77                1 2021-01-20 07:39:32  \n",
      "...             ...                 ...  \n",
      "1145              1 2021-01-20 08:01:16  \n",
      "1152              1 2021-01-20 08:01:22  \n",
      "1156              1 2021-01-20 08:01:30  \n",
      "1158              1 2021-01-20 08:01:31  \n",
      "1159              1 2021-01-20 08:01:32  \n",
      "\n",
      "[105 rows x 6 columns]\n"
     ]
    }
   ],
   "source": [
    "df1 = df.drop_duplicates(subset=['comment_id'])\n",
    "ticker = 'GME'\n",
    "\n",
    "\n",
    "df2 = df1[df1['comment_body'].str.contains(ticker)]\n",
    "print(df2)"
   ]
  },
  {
   "cell_type": "code",
   "execution_count": null,
   "metadata": {},
   "outputs": [],
   "source": []
  },
  {
   "cell_type": "code",
   "execution_count": null,
   "metadata": {},
   "outputs": [],
   "source": []
  }
 ],
 "metadata": {
  "kernelspec": {
   "display_name": "Python 3",
   "language": "python",
   "name": "python3"
  },
  "language_info": {
   "codemirror_mode": {
    "name": "ipython",
    "version": 3
   },
   "file_extension": ".py",
   "mimetype": "text/x-python",
   "name": "python",
   "nbconvert_exporter": "python",
   "pygments_lexer": "ipython3",
   "version": "3.8.5"
  }
 },
 "nbformat": 4,
 "nbformat_minor": 4
}
